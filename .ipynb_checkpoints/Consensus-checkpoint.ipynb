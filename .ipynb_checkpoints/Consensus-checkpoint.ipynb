{
 "cells": [
  {
   "cell_type": "markdown",
   "metadata": {},
   "source": [
    "Camacho Jonathan\n",
    "File name: script.py"
   ]
  },
  {
   "cell_type": "code",
   "execution_count": 1,
   "metadata": {
    "collapsed": true
   },
   "outputs": [],
   "source": [
    "import mysql.connector \n",
    "from mysql.connector import MySQLConnection, Error\n",
    "from configparser import ConfigParser\n",
    "import csv\n",
    "import pandas as pd"
   ]
  },
  {
   "cell_type": "code",
   "execution_count": 2,
   "metadata": {
    "collapsed": true
   },
   "outputs": [],
   "source": [
    "def read_db_config(filename='config.ini', section='mysql'):\n",
    "    '''\n",
    "    -----------------------------------------------------------------------\n",
    "    Read database configuration file and return a dictionary object. \n",
    "    -----------------------------------------------------------------------\n",
    "    INPUTS:  \n",
    "        filename  = string, configuration file \"config.ini\" \n",
    "        section   = string, section to red from the \"config.ini\" \n",
    "             \n",
    "    OUTPUTS: None.\n",
    "       \n",
    "    LOCAL VARIABLES AND ARGUMENTS:\n",
    "        parser    = parser, object to parse the \"config.ini\". \n",
    "        \n",
    "    RETURNS:\n",
    "        db        = dictionary, a dictionary of database parameters.\n",
    "    -----------------------------------------------------------------------\n",
    "    '''\n",
    "    # Creates parser and read the config.ini file.\n",
    "    \n",
    "    parser = ConfigParser()\n",
    "    parser.read(filename)\n",
    "    \n",
    "    # get section, default to mysql\n",
    "    db = {}\n",
    "    if parser.has_section(section):\n",
    "        items = parser.items(section)\n",
    "        for item in items:\n",
    "            db[item[0]] = item[1]\n",
    "    else:\n",
    "        raise Exception('{0} not found in the {1} file'.format(section, filename))\n",
    " \n",
    "    return db"
   ]
  },
  {
   "cell_type": "code",
   "execution_count": 3,
   "metadata": {
    "collapsed": true
   },
   "outputs": [],
   "source": [
    "def iter_row(cursor, size= 5):           \n",
    "    '''\n",
    "    -----------------------------------------------------------------------\n",
    "    Read database configuration file and return a dictionary object. \n",
    "    -----------------------------------------------------------------------\n",
    "    INPUTS:  \n",
    "        cursor  = classm mysql connector cursor. \n",
    "        size    = int, Number of rows to extract from database. Input to \n",
    "                       fetchmany()              \n",
    "    OUTPUTS:\n",
    "        none.\n",
    "       \n",
    "    LOCAL VARIABLES AND ARGUMENTS:\n",
    "        rows    = list, contained the retrieved data from the database. \n",
    "        \n",
    "    RETURNS:\n",
    "        rows    = list, contained the retrieved data from the database.\n",
    "    -----------------------------------------------------------------------\n",
    "    '''\n",
    "    for rows in range(size):\n",
    "        rows = cursor.fetchmany(size)\n",
    "        if not rows:\n",
    "            break\n",
    "        else:\n",
    "            return rows\n",
    "        #for row in rows:\n",
    "        #yield rows   "
   ]
  },
  {
   "cell_type": "code",
   "execution_count": 7,
   "metadata": {},
   "outputs": [
    {
     "name": "stdout",
     "output_type": "stream",
     "text": [
      "Connecting to MySQL database...\n",
      "connection established. \n",
      "\n",
      "Connection closed.\n"
     ]
    }
   ],
   "source": [
    "def query_with_fetchmany():\n",
    "    '''\n",
    "    -----------------------------------------------------------------------\n",
    "    Funtion that connects to data base. \n",
    "    -----------------------------------------------------------------------\n",
    "    INPUTS:  None\n",
    "    OUTPUTS: None.\n",
    "   \n",
    "    LOCAL VARIABLES AND ARGUMENTS:\n",
    "        data_df     = data frame, containing the articles info. \n",
    "        dbconfig = dictionary, containing log in information. \n",
    "        conn     = mysql connector. \n",
    "        cursor   = classm mysql connector cursor.\n",
    "        row      = tuple, with the data instantiation from the database.\n",
    "        e        = exect error handler.\n",
    "        list_abstracts = list, list with abstracts data in tuples. \n",
    "        df_abstracts   = dataframe, contains all the abstracts extracted from\n",
    "                         the database.  \n",
    "    -----------------------------------------------------------------------\n",
    "    '''\n",
    "    data_df = pd.DataFrame(columns = ['A', 'b', 'C'])\n",
    "    \n",
    "    try:\n",
    "        print('Connecting to MySQL database...')\n",
    "        dbconfig = read_db_config()\n",
    "        conn = MySQLConnection(**dbconfig)\n",
    "\n",
    "        if conn.is_connected():\n",
    "            print('connection established. \\n' )\n",
    "            cursor = conn.cursor()\n",
    "            cursor.execute(\"SELECT * FROM abstract\")\n",
    "            \n",
    "            list_abstracts = iter_row(cursor, 100)\n",
    "            #for row in iter_row(cursor, 2):\n",
    "             #   print(type(row))\n",
    "        else:\n",
    "            print('connection failed. \\n')\n",
    "                   \n",
    "    except Error as e:\n",
    "        print(e)\n",
    " \n",
    "    finally:\n",
    "        # Fix roblem closing the cursor. \n",
    "        #cursor.close() \n",
    "        conn.close()\n",
    "        print('Connection closed.')\n",
    "        \n",
    "        # Save list to a data frame. \n",
    "        df_abstracts = pd.DataFrame(list_abstracts, columns=['A', 'B', 'C'])\n",
    "        with open(\"abstracts.csv\", \"w\") as f:\n",
    "            df_abstracts.to_csv(f, header=True)\n",
    "        \n",
    "if __name__ == '__main__':\n",
    "    query_with_fetchmany()"
   ]
  },
  {
   "cell_type": "code",
   "execution_count": null,
   "metadata": {
    "collapsed": true
   },
   "outputs": [],
   "source": []
  },
  {
   "cell_type": "code",
   "execution_count": null,
   "metadata": {
    "collapsed": true
   },
   "outputs": [],
   "source": []
  }
 ],
 "metadata": {
  "kernelspec": {
   "display_name": "Python 3",
   "language": "python",
   "name": "python3"
  },
  "language_info": {
   "codemirror_mode": {
    "name": "ipython",
    "version": 3
   },
   "file_extension": ".py",
   "mimetype": "text/x-python",
   "name": "python",
   "nbconvert_exporter": "python",
   "pygments_lexer": "ipython3",
   "version": "3.6.1"
  }
 },
 "nbformat": 4,
 "nbformat_minor": 2
}
