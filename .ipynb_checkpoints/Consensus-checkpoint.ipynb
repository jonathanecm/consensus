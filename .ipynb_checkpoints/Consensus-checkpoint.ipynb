{
 "cells": [
  {
   "cell_type": "markdown",
   "metadata": {},
   "source": [
    "Camacho Jonathan\n",
    "File name: script.py"
   ]
  },
  {
   "cell_type": "code",
   "execution_count": 24,
   "metadata": {
    "collapsed": true
   },
   "outputs": [],
   "source": [
    "import mysql.connector \n",
    "from mysql.connector import MySQLConnection, Error\n",
    "from configparser import ConfigParser\n",
    "import csv"
   ]
  },
  {
   "cell_type": "code",
   "execution_count": 25,
   "metadata": {
    "collapsed": true
   },
   "outputs": [],
   "source": [
    "def read_db_config(filename='config.ini', section='mysql'):\n",
    "    '''\n",
    "    -----------------------------------------------------------------------\n",
    "    Read database configuration file and return a dictionary object. \n",
    "    -----------------------------------------------------------------------\n",
    "    INPUTS:  \n",
    "        filename  = string, configuration file \"config.ini\" \n",
    "        section   = string, section to red from the \"config.ini\" \n",
    "             \n",
    "    OUTPUTS: None.\n",
    "       \n",
    "    LOCAL VARIABLES AND ARGUMENTS:\n",
    "        parser    = parser, object to parse the \"config.ini\". \n",
    "        \n",
    "    RETURNS:\n",
    "        db        = dictionary, a dictionary of database parameters.\n",
    "    -----------------------------------------------------------------------\n",
    "    '''\n",
    "    # Creates parser and read the config.ini file.\n",
    "    \n",
    "    parser = ConfigParser()\n",
    "    parser.read(filename)\n",
    "    \n",
    "    # get section, default to mysql\n",
    "    db = {}\n",
    "    if parser.has_section(section):\n",
    "        items = parser.items(section)\n",
    "        for item in items:\n",
    "            db[item[0]] = item[1]\n",
    "    else:\n",
    "        raise Exception('{0} not found in the {1} file'.format(section, filename))\n",
    " \n",
    "    return db"
   ]
  },
  {
   "cell_type": "code",
   "execution_count": 60,
   "metadata": {},
   "outputs": [],
   "source": [
    "def iter_row(cursor, size= 5):           \n",
    "    for rows in range(size):\n",
    "        rows = cursor.fetchmany(size)\n",
    "        if not rows:\n",
    "            break\n",
    "        else:\n",
    "            return rows\n",
    "        #for row in rows:\n",
    "        #    yield rows   "
   ]
  },
  {
   "cell_type": "code",
   "execution_count": 73,
   "metadata": {},
   "outputs": [
    {
     "name": "stdout",
     "output_type": "stream",
     "text": [
      "Connecting to MySQL database...\n",
      "connection established. \n",
      "\n",
      "Connection closed.\n"
     ]
    },
    {
     "ename": "NameError",
     "evalue": "name 'csv_file' is not defined",
     "output_type": "error",
     "traceback": [
      "\u001b[0;31m---------------------------------------------------------------------------\u001b[0m",
      "\u001b[0;31mNameError\u001b[0m                                 Traceback (most recent call last)",
      "\u001b[0;32m<ipython-input-73-6eed3d71a9c7>\u001b[0m in \u001b[0;36m<module>\u001b[0;34m()\u001b[0m\n\u001b[1;32m     47\u001b[0m \u001b[0;34m\u001b[0m\u001b[0m\n\u001b[1;32m     48\u001b[0m \u001b[0;32mif\u001b[0m \u001b[0m__name__\u001b[0m \u001b[0;34m==\u001b[0m \u001b[0;34m'__main__'\u001b[0m\u001b[0;34m:\u001b[0m\u001b[0;34m\u001b[0m\u001b[0m\n\u001b[0;32m---> 49\u001b[0;31m     \u001b[0mquery_with_fetchmany\u001b[0m\u001b[0;34m(\u001b[0m\u001b[0;34m)\u001b[0m\u001b[0;34m\u001b[0m\u001b[0m\n\u001b[0m",
      "\u001b[0;32m<ipython-input-73-6eed3d71a9c7>\u001b[0m in \u001b[0;36mquery_with_fetchmany\u001b[0;34m()\u001b[0m\n\u001b[1;32m     24\u001b[0m \u001b[0;34m\u001b[0m\u001b[0m\n\u001b[1;32m     25\u001b[0m             \u001b[0mopen\u001b[0m\u001b[0;34m(\u001b[0m\u001b[0;34m\"data.csv\"\u001b[0m\u001b[0;34m,\u001b[0m \u001b[0;34m\"wb\"\u001b[0m\u001b[0;34m)\u001b[0m\u001b[0;34m\u001b[0m\u001b[0m\n\u001b[0;32m---> 26\u001b[0;31m             \u001b[0mcsv_writer\u001b[0m \u001b[0;34m=\u001b[0m \u001b[0mcsv\u001b[0m\u001b[0;34m.\u001b[0m\u001b[0mwriter\u001b[0m\u001b[0;34m(\u001b[0m\u001b[0mcsv_file\u001b[0m\u001b[0;34m)\u001b[0m\u001b[0;34m\u001b[0m\u001b[0m\n\u001b[0m\u001b[1;32m     27\u001b[0m \u001b[0;34m\u001b[0m\u001b[0m\n\u001b[1;32m     28\u001b[0m             \u001b[0;32mfor\u001b[0m \u001b[0mrow\u001b[0m \u001b[0;32min\u001b[0m \u001b[0miter_row\u001b[0m\u001b[0;34m(\u001b[0m\u001b[0mcursor\u001b[0m\u001b[0;34m,\u001b[0m \u001b[0;36m3\u001b[0m\u001b[0;34m)\u001b[0m\u001b[0;34m:\u001b[0m\u001b[0;34m\u001b[0m\u001b[0m\n",
      "\u001b[0;31mNameError\u001b[0m: name 'csv_file' is not defined"
     ]
    }
   ],
   "source": [
    "def query_with_fetchmany():\n",
    "    '''\n",
    "    -----------------------------------------------------------------------\n",
    "    Funtion that connects to data base. \n",
    "    -----------------------------------------------------------------------\n",
    "    INPUTS:  None\n",
    "    OUTPUTS: None.\n",
    "       \n",
    "    LOCAL VARIABLES AND ARGUMENTS:\n",
    "        conn    = MySQLConnection object.\n",
    "        e       = Default try method variable.  \n",
    "    -----------------------------------------------------------------------\n",
    "    '''\n",
    "    try:\n",
    "        print('Connecting to MySQL database...')\n",
    "        dbconfig = read_db_config()\n",
    "        conn = MySQLConnection(**dbconfig)\n",
    "        \n",
    "        if conn.is_connected():\n",
    "            print('connection established. \\n' )\n",
    "            \n",
    "            cursor = conn.cursor()\n",
    "            cursor.execute(\"SELECT * FROM abstract\")\n",
    "        \n",
    "            open(\"data.csv\", \"wb\")\n",
    "            csv_writer = csv.writer(csv_file)\n",
    "                \n",
    "            for row in iter_row(cursor, 3):\n",
    "                csv_writer.writerows(row)\n",
    "                print(row)\n",
    "                print('\\n')\n",
    "                \n",
    "            #with open(\"data.csv\", \"wb\") as csv_file:\n",
    "            #    csv_writer = csv.writer(csv_file)\n",
    "            #    csv_writer.writerows(row)\n",
    "        else:\n",
    "            print('connection failed. \\n')\n",
    "                   \n",
    "    except Error as e:\n",
    "        print(e)\n",
    " \n",
    "    finally:\n",
    "        # Fix problem closing the cursor. \n",
    "        #cursor.close() \n",
    "        conn.close()\n",
    "        print('Connection closed.')\n",
    "        \n",
    "if __name__ == '__main__':\n",
    "    query_with_fetchmany()"
   ]
  },
  {
   "cell_type": "code",
   "execution_count": null,
   "metadata": {
    "collapsed": true
   },
   "outputs": [],
   "source": []
  },
  {
   "cell_type": "code",
   "execution_count": null,
   "metadata": {
    "collapsed": true
   },
   "outputs": [],
   "source": []
  }
 ],
 "metadata": {
  "kernelspec": {
   "display_name": "Python 3",
   "language": "python",
   "name": "python3"
  },
  "language_info": {
   "codemirror_mode": {
    "name": "ipython",
    "version": 3
   },
   "file_extension": ".py",
   "mimetype": "text/x-python",
   "name": "python",
   "nbconvert_exporter": "python",
   "pygments_lexer": "ipython3",
   "version": "3.6.1"
  }
 },
 "nbformat": 4,
 "nbformat_minor": 2
}
