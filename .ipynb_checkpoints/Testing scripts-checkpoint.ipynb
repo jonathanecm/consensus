{
 "cells": [
  {
   "cell_type": "code",
   "execution_count": 115,
   "metadata": {
    "collapsed": true
   },
   "outputs": [],
   "source": [
    "import mysql.connector \n",
    "from mysql.connector import MySQLConnection, Error\n",
    "from configparser import ConfigParser"
   ]
  },
  {
   "cell_type": "code",
   "execution_count": 116,
   "metadata": {
    "collapsed": true
   },
   "outputs": [],
   "source": [
    "def read_db_config(filename='config.ini', section='mysql'):\n",
    "    '''\n",
    "    -----------------------------------------------------------------------\n",
    "    Read database configuration file and return a dictionary object. \n",
    "    -----------------------------------------------------------------------\n",
    "    INPUTS:  \n",
    "        filename  = string, configuration file \"config.ini\" \n",
    "        section   = string, section to red from the \"config.ini\" \n",
    "             \n",
    "    OUTPUTS: None.\n",
    "       \n",
    "    LOCAL VARIABLES AND ARGUMENTS:\n",
    "        parser    = parser, object to parse the \"config.ini\". \n",
    "        \n",
    "    RETURNS:\n",
    "        db        = dictionary, a dictionary of database parameters.\n",
    "    -----------------------------------------------------------------------\n",
    "    '''\n",
    "    # Creates parser and read the config.ini file.\n",
    "    \n",
    "    parser = ConfigParser()\n",
    "    parser.read(filename)\n",
    "    \n",
    "    # get section, default to mysql\n",
    "    db = {}\n",
    "    if parser.has_section(section):\n",
    "        items = parser.items(section)\n",
    "        for item in items:\n",
    "            db[item[0]] = item[1]\n",
    "    else:\n",
    "        raise Exception('{0} not found in the {1} file'.format(section, filename))\n",
    " \n",
    "    return db"
   ]
  },
  {
   "cell_type": "code",
   "execution_count": 144,
   "metadata": {},
   "outputs": [
    {
     "name": "stdout",
     "output_type": "stream",
     "text": [
      "Connecting to MySQL database...\n",
      "connection established. \n",
      "\n",
      "SELECT abstract LastName, FirstName, year FROM abstract INNER JOIN authors ON abstract.pmid = authors.pmid INNER JOIN doc ON abstract.pmid = doc.pmid\n",
      "[('How to obtain the Brain of the Cat, (Wilder).-Correction: Page 158, second column, line 7, \"grains,\" should be \"grams;\" page 159, near middle of 2nd column, \"successily,\" should be \"successively;\" page 161, the number of Flower\\'s paper is 3.', 'B G', '1881')]\n",
      "Connection closed.\n"
     ]
    }
   ],
   "source": [
    "def query_with_fetchmany():\n",
    "    '''\n",
    "    -----------------------------------------------------------------------\n",
    "    Funtion that connects to data base. \n",
    "    -----------------------------------------------------------------------\n",
    "    INPUTS:  None\n",
    "    OUTPUTS: None.\n",
    "   \n",
    "    LOCAL VARIABLES AND ARGUMENTS:\n",
    "        data_df     = data frame, containing the articles info. \n",
    "        dbconfig = dictionary, containing log in information. \n",
    "        conn     = mysql connector. \n",
    "        cursor   = classm mysql connector cursor.\n",
    "        row      = tuple, with the data instantiation from the database.\n",
    "        e        = exect error handler.\n",
    "        list_abstracts = list, list with abstracts data in tuples. \n",
    "        df_abstracts   = dataframe, contains all the abstracts extracted from\n",
    "                         the database.  \n",
    "    -----------------------------------------------------------------------\n",
    "    '''\n",
    "   \n",
    "    \n",
    "    try:\n",
    "        print('Connecting to MySQL database...')\n",
    "        dbconfig = read_db_config()\n",
    "        conn = MySQLConnection(**dbconfig)\n",
    "\n",
    "        if conn.is_connected():\n",
    "            print('connection established. \\n' )\n",
    "            cursor = conn.cursor()\n",
    "            \n",
    "            #cursor.execute(\"DESCRIBE doc\")\n",
    "            \n",
    "            #cursor.execute(\"SELECT * FROM authors\")\n",
    "            \n",
    "            query_vars = \"SELECT abstract LastName, FirstName, year FROM abstract \" \n",
    "            table_1 = \"INNER JOIN authors ON abstract.pmid = authors.pmid \"\n",
    "            table_2 = \"INNER JOIN doc ON abstract.pmid = doc.pmid\"\n",
    "            \n",
    "            query = query_vars + table_1 + table_2\n",
    "            print(query)\n",
    "            \n",
    "            cursor.execute(query) \n",
    "        \n",
    "            tables = cursor.fetchmany(size=1)\n",
    "            print(tables)\n",
    "            \n",
    "            #list_abstracts = iter_row(cursor, 100)\n",
    "            #for row in iter_row(cursor, 2):\n",
    "             #   print(type(row))\n",
    "        else:\n",
    "            print('connection failed. \\n')\n",
    "                   \n",
    "    except Error as e:\n",
    "        print(e)\n",
    " \n",
    "    finally:\n",
    "        # Fix roblem closing the cursor. \n",
    "        #cursor.close() \n",
    "        conn.close()\n",
    "        print('Connection closed.')\n",
    "        \n",
    "        # Save list to a data frame. \n",
    "        \n",
    "        \n",
    "if __name__ == '__main__':\n",
    "    query_with_fetchmany()\n"
   ]
  },
  {
   "cell_type": "code",
   "execution_count": 113,
   "metadata": {},
   "outputs": [
    {
     "data": {
      "text/plain": [
       "[('abstract',),\n",
       " ('affiliation',),\n",
       " ('authorId',),\n",
       " ('authorInitialsId',),\n",
       " ('authority09_articlesMedline',),\n",
       " ('authors',),\n",
       " ('cell_docs',),\n",
       " ('doc',),\n",
       " ('grants',),\n",
       " ('mesh',),\n",
       " ('nAuthorHistogram',),\n",
       " ('patent_docs',),\n",
       " ('pmidAuthId',),\n",
       " ('pmidNumAuthors',),\n",
       " ('pmid_ext_metadata',),\n",
       " ('yearPmidNumAuthors',)]"
      ]
     },
     "execution_count": 113,
     "metadata": {},
     "output_type": "execute_result"
    }
   ],
   "source": [
    "[('abstract',), ('affiliation',), ('authorId',), ('authorInitialsId',), ('authority09_articlesMedline',), ('authors',), ('cell_docs',), ('doc',), ('grants',), ('mesh',), ('nAuthorHistogram',), ('patent_docs',), ('pmidAuthId',), ('pmidNumAuthors',), ('pmid_ext_metadata',), ('yearPmidNumAuthors',)]"
   ]
  },
  {
   "cell_type": "code",
   "execution_count": 11,
   "metadata": {},
   "outputs": [
    {
     "name": "stdout",
     "output_type": "stream",
     "text": [
      "<zip object at 0x10c50bc48>\n"
     ]
    }
   ],
   "source": []
  },
  {
   "cell_type": "code",
   "execution_count": null,
   "metadata": {
    "collapsed": true
   },
   "outputs": [],
   "source": []
  }
 ],
 "metadata": {
  "kernelspec": {
   "display_name": "Python 3",
   "language": "python",
   "name": "python3"
  },
  "language_info": {
   "codemirror_mode": {
    "name": "ipython",
    "version": 3
   },
   "file_extension": ".py",
   "mimetype": "text/x-python",
   "name": "python",
   "nbconvert_exporter": "python",
   "pygments_lexer": "ipython3",
   "version": "3.6.1"
  }
 },
 "nbformat": 4,
 "nbformat_minor": 2
}
