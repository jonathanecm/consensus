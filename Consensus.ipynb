{
 "cells": [
  {
   "cell_type": "markdown",
   "metadata": {},
   "source": [
    "Camacho Jonathan\n",
    "File name: script.py"
   ]
  },
  {
   "cell_type": "code",
   "execution_count": 90,
   "metadata": {
    "collapsed": true
   },
   "outputs": [],
   "source": [
    "import mysql.connector \n",
    "from mysql.connector import MySQLConnection, Error\n",
    "from configparser import ConfigParser\n",
    "import csv\n",
    "import pandas as pd"
   ]
  },
  {
   "cell_type": "code",
   "execution_count": 91,
   "metadata": {
    "collapsed": true
   },
   "outputs": [],
   "source": [
    "def read_db_config(filename='config.ini', section='mysql'):\n",
    "    '''\n",
    "    -----------------------------------------------------------------------\n",
    "    Read database configuration file and return a dictionary object. \n",
    "    -----------------------------------------------------------------------\n",
    "    INPUTS:  \n",
    "        filename  = string, configuration file \"config.ini\" \n",
    "        section   = string, section to red from the \"config.ini\" \n",
    "             \n",
    "    OUTPUTS: None.\n",
    "       \n",
    "    LOCAL VARIABLES AND ARGUMENTS:\n",
    "        parser    = parser, object to parse the \"config.ini\". \n",
    "        \n",
    "    RETURNS:\n",
    "        db        = dictionary, a dictionary of database parameters.\n",
    "    -----------------------------------------------------------------------\n",
    "    '''\n",
    "    # Creates parser and read the config.ini file.\n",
    "    \n",
    "    parser = ConfigParser()\n",
    "    parser.read(filename)\n",
    "    \n",
    "    # get section, default to mysql\n",
    "    db = {}\n",
    "    if parser.has_section(section):\n",
    "        items = parser.items(section)\n",
    "        for item in items:\n",
    "            db[item[0]] = item[1]\n",
    "    else:\n",
    "        raise Exception('{0} not found in the {1} file'.format(section, filename))\n",
    " \n",
    "    return db"
   ]
  },
  {
   "cell_type": "code",
   "execution_count": 92,
   "metadata": {},
   "outputs": [],
   "source": [
    "def iter_row(cursor, size= 5):           \n",
    "    for rows in range(size):\n",
    "        rows = cursor.fetchmany(size)\n",
    "        if not rows:\n",
    "            break\n",
    "        else:\n",
    "            return rows\n",
    "        #for row in rows:\n",
    "        #    yield rows   "
   ]
  },
  {
   "cell_type": "code",
   "execution_count": 97,
   "metadata": {},
   "outputs": [
    {
     "name": "stdout",
     "output_type": "stream",
     "text": [
      "Empty DataFrame\n",
      "Columns: [A, b, C]\n",
      "Index: []\n",
      "Connecting to MySQL database...\n",
      "connection established. \n",
      "\n",
      "\n",
      "\n",
      "\n",
      "\n",
      "\n",
      "\n",
      "\n",
      "\n",
      "(17832547, 1, 'I have thus touched, gentlemen, upon a few of the many subjects that crowd upon the mind for consideration on an occasion like this, - a few gleanings from a field which is passing rich in promise and possibility. It is a field that some of us have cultivated for many years, and yet have only scratched the surface ; and, if I have ventured to suggest or admonish, it is with the feeling that my own labors in this field are ere long about to end, and that I may not have another occasion. At no time in the history of the world has there, I trow, been gathered together such a body of devoted and capable workers in applied entomology. It marks an era in our calling, and, looking back at the progress of the past fifteen years, we may well ponder the possibilities of the next fifteen. They will be fruitful of grand results in proportion as we persistently and combinedly pursue the yet unsolved problems, and are not tempted to the immediate presentation of separate facts, which are so innumerable and so easily observed that their very wealth becomes an element of weakness. Epoch-making discoveries result only from this power of following up unswervingly any given problem or any fixed ideal. The kerosene emulsion ; the cyclone nozzle ; the history of Phylloxera vastatrix, of Phorodon humuli, of Vedalia cardinalis,- are illustrations in point: and, while we may not expect frequent results as striking or of as wide application as these, there is no end of important problems yet to be solved, and from the solution of which we may look for similar beneficial results. Applied entomology is often considered a sordid pursuit ; but it only becomes so when the object is sordid. When pursued with unselfish enthusiasm born of the love of investigation and the delight in benefiting our fellow-men, it is inspiring ; and there are few pursuits more deservedly so, considering the vast losses to our farmers from insect injury and the pressing need that the distressed husbandman has for every aid that can be given bim. Our work is elevating in its sympathies for the struggles and sufferings of others. Our standard should be high,- the pursuit of knowledge for the advancement of agriculture. No official entomologist should lower it by sordid aims. During the recent political campaign the farmer must have been sorely puzzled to know whether his interests needed protection or not. On the abstract question of tariff protection to his products, we, as entomologists, may no more agree than do the politicians, or than does the farmer himself ; but ours is a case of protection from in- jurious insects, and upon that there can nowhere be division of opinion. It is our duty to see that be gets it with as little tax for the means as possible. Gentlemen, I thank you.')\n",
      "Connection closed.\n"
     ]
    }
   ],
   "source": [
    "def query_with_fetchmany():\n",
    "    '''\n",
    "    -----------------------------------------------------------------------\n",
    "    Funtion that connects to data base. \n",
    "    -----------------------------------------------------------------------\n",
    "    INPUTS:  None\n",
    "    OUTPUTS: None.\n",
    "       \n",
    "    LOCAL VARIABLES AND ARGUMENTS:\n",
    "        conn    = MySQLConnection object.\n",
    "        e       = Default try method variable.  \n",
    "    -----------------------------------------------------------------------\n",
    "    '''\n",
    "    frame = pd.DataFrame(columns = ['A', 'b', 'C'])\n",
    "    \n",
    "    try:\n",
    "        print('Connecting to MySQL database...')\n",
    "        dbconfig = read_db_config()\n",
    "        conn = MySQLConnection(**dbconfig)\n",
    "        \n",
    "        if conn.is_connected():\n",
    "            print('connection established. \\n' )\n",
    "            \n",
    "            cursor = conn.cursor()\n",
    "            cursor.execute(\"SELECT * FROM abstract\")\n",
    "                \n",
    "            for row in iter_row(cursor, 4):\n",
    "                #print(type(row))\n",
    "                print('\\n')\n",
    "                \n",
    "            print(row)\n",
    "        \n",
    "        else:\n",
    "            print('connection failed. \\n')\n",
    "                   \n",
    "    except Error as e:\n",
    "        print(e)\n",
    " \n",
    "    finally:\n",
    "        # Fix problem closing the cursor. \n",
    "        #cursor.close() \n",
    "        conn.close()\n",
    "        print('Connection closed.')\n",
    "        \n",
    "if __name__ == '__main__':\n",
    "    query_with_fetchmany()"
   ]
  },
  {
   "cell_type": "code",
   "execution_count": null,
   "metadata": {
    "collapsed": true
   },
   "outputs": [],
   "source": []
  },
  {
   "cell_type": "code",
   "execution_count": null,
   "metadata": {
    "collapsed": true
   },
   "outputs": [],
   "source": []
  }
 ],
 "metadata": {
  "kernelspec": {
   "display_name": "Python 3",
   "language": "python",
   "name": "python3"
  },
  "language_info": {
   "codemirror_mode": {
    "name": "ipython",
    "version": 3
   },
   "file_extension": ".py",
   "mimetype": "text/x-python",
   "name": "python",
   "nbconvert_exporter": "python",
   "pygments_lexer": "ipython3",
   "version": "3.6.1"
  }
 },
 "nbformat": 4,
 "nbformat_minor": 2
}
