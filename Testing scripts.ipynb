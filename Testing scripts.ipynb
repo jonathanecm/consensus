{
 "cells": [
  {
   "cell_type": "code",
   "execution_count": 2,
   "metadata": {
    "collapsed": true
   },
   "outputs": [],
   "source": [
    "import mysql.connector \n",
    "from mysql.connector import MySQLConnection, Error\n",
    "from configparser import ConfigParser"
   ]
  },
  {
   "cell_type": "code",
   "execution_count": 3,
   "metadata": {
    "collapsed": true
   },
   "outputs": [],
   "source": [
    "def read_db_config(filename='config.ini', section='mysql'):\n",
    "    '''\n",
    "    -----------------------------------------------------------------------\n",
    "    Read database configuration file and return a dictionary object. \n",
    "    -----------------------------------------------------------------------\n",
    "    INPUTS:  \n",
    "        filename  = string, configuration file \"config.ini\" \n",
    "        section   = string, section to red from the \"config.ini\" \n",
    "             \n",
    "    OUTPUTS: None.\n",
    "       \n",
    "    LOCAL VARIABLES AND ARGUMENTS:\n",
    "        parser    = parser, object to parse the \"config.ini\". \n",
    "        \n",
    "    RETURNS:\n",
    "        db        = dictionary, a dictionary of database parameters.\n",
    "    -----------------------------------------------------------------------\n",
    "    '''\n",
    "    # Creates parser and read the config.ini file.\n",
    "    \n",
    "    parser = ConfigParser()\n",
    "    parser.read(filename)\n",
    "    \n",
    "    # get section, default to mysql\n",
    "    db = {}\n",
    "    if parser.has_section(section):\n",
    "        items = parser.items(section)\n",
    "        for item in items:\n",
    "            db[item[0]] = item[1]\n",
    "    else:\n",
    "        raise Exception('{0} not found in the {1} file'.format(section, filename))\n",
    " \n",
    "    return db"
   ]
  },
  {
   "cell_type": "code",
   "execution_count": null,
   "metadata": {},
   "outputs": [
    {
     "name": "stdout",
     "output_type": "stream",
     "text": [
      "Connecting to MySQL database...\n",
      "connection established. \n",
      "\n"
     ]
    },
    {
     "name": "stderr",
     "output_type": "stream",
     "text": [
      "IOPub data rate exceeded.\n",
      "The notebook server will temporarily stop sending output\n",
      "to the client in order to avoid crashing it.\n",
      "To change this limit, set the config variable\n",
      "`--NotebookApp.iopub_data_rate_limit`.\n"
     ]
    }
   ],
   "source": [
    "def query_with_fetchmany():\n",
    "    '''\n",
    "    -----------------------------------------------------------------------\n",
    "    Funtion that connects to data base. \n",
    "    -----------------------------------------------------------------------\n",
    "    INPUTS:  None\n",
    "    OUTPUTS: None.\n",
    "   \n",
    "    LOCAL VARIABLES AND ARGUMENTS:\n",
    "        data_df     = data frame, containing the articles info. \n",
    "        dbconfig = dictionary, containing log in information. \n",
    "        conn     = mysql connector. \n",
    "        cursor   = classm mysql connector cursor.\n",
    "        row      = tuple, with the data instantiation from the database.\n",
    "        e        = exect error handler.\n",
    "        list_abstracts = list, list with abstracts data in tuples. \n",
    "        df_abstracts   = dataframe, contains all the abstracts extracted from\n",
    "                         the database.  \n",
    "    -----------------------------------------------------------------------\n",
    "    '''\n",
    "   \n",
    "    \n",
    "    try:\n",
    "        print('Connecting to MySQL database...')\n",
    "        dbconfig = read_db_config()\n",
    "        conn = MySQLConnection(**dbconfig)\n",
    "\n",
    "        if conn.is_connected():\n",
    "            print('connection established. \\n' )\n",
    "            cursor = conn.cursor()\n",
    "            \n",
    "            #cursor.execute(\"DESCRIBE doc\")\n",
    "            \n",
    "            #cursor.execute(\"SELECT * FROM authors\")\n",
    "            \n",
    "            query_vars = \"SELECT abstract, journal, LastName, FirstName, year, journal FROM abstract \" \n",
    "            table_1 = \"INNER JOIN authors ON abstract.pmid = authors.pmid \"\n",
    "            table_2 = \"INNER JOIN doc ON abstract.pmid = doc.pmid\"\n",
    "            query = query_vars + table_1 + table_2\n",
    "            \n",
    "            cursor.execute(query) \n",
    "        \n",
    "            tables = cursor.fetchmany(size=100000)\n",
    "            for i in tables:\n",
    "                print(tables[100:2008])\n",
    "            \n",
    "            #list_abstracts = iter_row(cursor, 100)\n",
    "            #for row in iter_row(cursor, 2):\n",
    "             #   print(type(row))\n",
    "        else:\n",
    "            print('connection failed. \\n')\n",
    "                   \n",
    "    except Error as e:\n",
    "        print(e)\n",
    " \n",
    "    finally:\n",
    "        # Fix roblem closing the cursor. \n",
    "        #cursor.close() \n",
    "        conn.close()\n",
    "        print('Connection closed.')\n",
    "        \n",
    "        # Save list to a data frame. \n",
    "        \n",
    "        \n",
    "if __name__ == '__main__':\n",
    "    query_with_fetchmany()\n"
   ]
  },
  {
   "cell_type": "code",
   "execution_count": null,
   "metadata": {
    "collapsed": true
   },
   "outputs": [],
   "source": []
  }
 ],
 "metadata": {
  "kernelspec": {
   "display_name": "Python 3",
   "language": "python",
   "name": "python3"
  },
  "language_info": {
   "codemirror_mode": {
    "name": "ipython",
    "version": 3
   },
   "file_extension": ".py",
   "mimetype": "text/x-python",
   "name": "python",
   "nbconvert_exporter": "python",
   "pygments_lexer": "ipython3",
   "version": "3.6.1"
  }
 },
 "nbformat": 4,
 "nbformat_minor": 2
}
