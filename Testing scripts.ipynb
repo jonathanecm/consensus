{
 "cells": [
  {
   "cell_type": "code",
   "execution_count": null,
   "metadata": {
    "collapsed": true
   },
   "outputs": [],
   "source": [
    "import mysql.connector \n",
    "from mysql.connector import MySQLConnection, Error\n",
    "from configparser import ConfigParser"
   ]
  },
  {
   "cell_type": "code",
   "execution_count": null,
   "metadata": {
    "collapsed": true
   },
   "outputs": [],
   "source": [
    "def read_db_config(filename='config.ini', section='mysql'):\n",
    "    '''\n",
    "    -----------------------------------------------------------------------\n",
    "    Read database configuration file and return a dictionary object. \n",
    "    -----------------------------------------------------------------------\n",
    "    INPUTS:  \n",
    "        filename  = string, configuration file \"config.ini\" \n",
    "        section   = string, section to red from the \"config.ini\" \n",
    "             \n",
    "    OUTPUTS: None.\n",
    "       \n",
    "    LOCAL VARIABLES AND ARGUMENTS:\n",
    "        parser    = parser, object to parse the \"config.ini\". \n",
    "        \n",
    "    RETURNS:\n",
    "        db        = dictionary, a dictionary of database parameters.\n",
    "    -----------------------------------------------------------------------\n",
    "    '''\n",
    "    # Creates parser and read the config.ini file.\n",
    "    \n",
    "    parser = ConfigParser()\n",
    "    parser.read(filename)\n",
    "    \n",
    "    # get section, default to mysql\n",
    "    db = {}\n",
    "    if parser.has_section(section):\n",
    "        items = parser.items(section)\n",
    "        for item in items:\n",
    "            db[item[0]] = item[1]\n",
    "    else:\n",
    "        raise Exception('{0} not found in the {1} file'.format(section, filename))\n",
    " \n",
    "    return db"
   ]
  },
  {
   "cell_type": "code",
   "execution_count": null,
   "metadata": {
    "collapsed": true
   },
   "outputs": [],
   "source": [
    "def connect():\n",
    "    \n",
    "    \n",
    "    db_config = read_db_config()\n",
    " \n",
    "    try:\n",
    "        print('Connecting to MySQL database...')\n",
    "        conn = MySQLConnection(**db_config)\n",
    " \n",
    "        if conn.is_connected():\n",
    "            print('connection established.')\n",
    "        else:\n",
    "            print('connection failed.')\n",
    " \n",
    "    except Error as error:\n",
    "        print(error)\n",
    " \n",
    "    finally:\n",
    "        conn.close()\n",
    "        print('Connection closed.')\n",
    "        \n",
    " \n",
    " \n",
    "if __name__ == '__main__':\n",
    "    connect()"
   ]
  }
 ],
 "metadata": {
  "kernelspec": {
   "display_name": "Python 3",
   "language": "python",
   "name": "python3"
  },
  "language_info": {
   "codemirror_mode": {
    "name": "ipython",
    "version": 3
   },
   "file_extension": ".py",
   "mimetype": "text/x-python",
   "name": "python",
   "nbconvert_exporter": "python",
   "pygments_lexer": "ipython3",
   "version": "3.6.1"
  }
 },
 "nbformat": 4,
 "nbformat_minor": 2
}
