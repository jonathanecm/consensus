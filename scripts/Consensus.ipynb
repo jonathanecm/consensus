{
 "cells": [
  {
   "cell_type": "markdown",
   "metadata": {},
   "source": [
    "Camacho Jonathan\n",
    "File name: script.py"
   ]
  },
  {
   "cell_type": "code",
   "execution_count": 3,
   "metadata": {
    "collapsed": true
   },
   "outputs": [],
   "source": [
    "import mysql.connector \n",
    "from mysql.connector import MySQLConnection, Error\n",
    "from configparser import ConfigParser\n",
    "import csv\n",
    "import pandas as pd\n",
    "%run functions.py"
   ]
  },
  {
   "cell_type": "code",
   "execution_count": 4,
   "metadata": {},
   "outputs": [
    {
     "name": "stdout",
     "output_type": "stream",
     "text": [
      "Connecting to MySQL database...\n",
      "connection established. \n",
      "\n",
      "Connection closed.\n"
     ]
    }
   ],
   "source": [
    "def query_with_fetchmany():\n",
    "    '''\n",
    "    -----------------------------------------------------------------------\n",
    "    Funtion that connects to data base. \n",
    "    -----------------------------------------------------------------------\n",
    "    INPUTS:  None\n",
    "    OUTPUTS: None.\n",
    "   \n",
    "    LOCAL VARIABLES AND ARGUMENTS:\n",
    "        data_df     = data frame, containing the articles info. \n",
    "        dbconfig = dictionary, containing log in information. \n",
    "        conn     = mysql connector. \n",
    "        cursor   = classm mysql connector cursor.\n",
    "        row      = tuple, with the data instantiation from the database.\n",
    "        e        = exect error handler.\n",
    "        list_abstracts = list, list with abstracts data in tuples. \n",
    "        df_abstracts   = dataframe, contains all the abstracts extracted from\n",
    "                         the database.  \n",
    "    -----------------------------------------------------------------------\n",
    "    '''\n",
    "    data_df = pd.DataFrame(columns = ['A', 'b', 'C'])\n",
    "    \n",
    "    try:\n",
    "        print('Connecting to MySQL database...')\n",
    "        dbconfig = read_db_config()\n",
    "        conn = MySQLConnection(**dbconfig)\n",
    "\n",
    "        if conn.is_connected():\n",
    "            print('connection established. \\n' )\n",
    "            cursor = conn.cursor()\n",
    "            \n",
    "            query_vars = \"SELECT issn, journal, abstract, LastName, FirstName, year FROM abstract \" \n",
    "            table_1 = \"INNER JOIN authors ON abstract.pmid = authors.pmid \"\n",
    "            table_2 = \"INNER JOIN doc ON abstract.pmid = doc.pmid\"\n",
    "            query = query_vars + table_1 + table_2\n",
    "            \n",
    "            cursor.execute(query)\n",
    "            \n",
    "            list_abstracts = iter_row(cursor, 10)\n",
    "            #for row in iter_row(cursor, 2):\n",
    "             #   print(type(row))\n",
    "        else:\n",
    "            print('connection failed. \\n')\n",
    "                   \n",
    "    except Error as e:\n",
    "        print(e)\n",
    " \n",
    "    finally:\n",
    "        # Fix roblem closing the cursor. \n",
    "        #cursor.close() \n",
    "        conn.close()\n",
    "        print('Connection closed.')\n",
    "        \n",
    "        # Save list to a data frame. \n",
    "        df_abstracts = pd.DataFrame(list_abstracts, columns=[\"issn\", \"journal\", \"abstract\", \"LastName\", \"FirstName\", \"year\"])\n",
    "        with open(\"./data/abstracts.csv\", \"w\") as f:\n",
    "            df_abstracts.to_csv(f, header=True)\n",
    "        \n",
    "if __name__ == '__main__':\n",
    "    query_with_fetchmany()"
   ]
  },
  {
   "cell_type": "code",
   "execution_count": null,
   "metadata": {
    "collapsed": true
   },
   "outputs": [],
   "source": []
  },
  {
   "cell_type": "code",
   "execution_count": null,
   "metadata": {
    "collapsed": true
   },
   "outputs": [],
   "source": []
  }
 ],
 "metadata": {
  "kernelspec": {
   "display_name": "Python 3",
   "language": "python",
   "name": "python3"
  },
  "language_info": {
   "codemirror_mode": {
    "name": "ipython",
    "version": 3
   },
   "file_extension": ".py",
   "mimetype": "text/x-python",
   "name": "python",
   "nbconvert_exporter": "python",
   "pygments_lexer": "ipython3",
   "version": "3.6.1"
  }
 },
 "nbformat": 4,
 "nbformat_minor": 2
}
